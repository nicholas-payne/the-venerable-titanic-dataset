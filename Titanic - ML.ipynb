{
 "cells": [
  {
   "cell_type": "code",
   "execution_count": 50,
   "metadata": {},
   "outputs": [],
   "source": [
    "import numpy as np\n",
    "import matplotlib.pyplot as plt\n",
    "import pandas as pd\n",
    "\n",
    "from sklearn.preprocessing import StandardScaler\n",
    "from sklearn.model_selection import train_test_split\n",
    "from sklearn.linear_model import LogisticRegression #gotta start somewhere\n",
    "from sklearn.ensemble import RandomForestClassifier, GradientBoostingClassifier\n",
    "from sklearn.svm import SVC\n",
    "from sklearn.pipeline import make_pipeline # I remember the idea of pipelines from datacamp.com and I intend to always\n",
    "                                           # use pipelines with ML\n",
    "from sklearn.impute import SimpleImputer"
   ]
  },
  {
   "cell_type": "code",
   "execution_count": 39,
   "metadata": {},
   "outputs": [
    {
     "name": "stdout",
     "output_type": "stream",
     "text": [
      "<class 'pandas.core.frame.DataFrame'>\n",
      "Int64Index: 891 entries, 1 to 891\n",
      "Data columns (total 8 columns):\n",
      " #   Column     Non-Null Count  Dtype   \n",
      "---  ------     --------------  -----   \n",
      " 0   Survived   891 non-null    int64   \n",
      " 1   Pclass     891 non-null    category\n",
      " 2   Age        714 non-null    float64 \n",
      " 3   SibSp      891 non-null    int64   \n",
      " 4   Parch      891 non-null    int64   \n",
      " 5   Fare       891 non-null    float64 \n",
      " 6   Is_female  891 non-null    category\n",
      " 7   has_Cabin  891 non-null    category\n",
      "dtypes: category(3), float64(2), int64(3)\n",
      "memory usage: 44.7 KB\n"
     ]
    }
   ],
   "source": [
    "df = pd.read_csv('train.csv',index_col='PassengerId')\n",
    "sex_dict = {'male':0,\n",
    "           'female':1}\n",
    "df['Is_female']=df['Sex'].map(sex_dict).astype('category')\n",
    "df['Pclass']=df['Pclass'].astype('category')\n",
    "df['has_Cabin']=df['Cabin'].notnull().astype('int').astype('category')\n",
    "\n",
    "\n",
    "df.drop(columns=['Name','Ticket','Embarked','Sex','Cabin'],inplace=True)\n",
    "\n",
    "# In retrospect, I should not do this because the mean age of the training set is influenced by the test set and vice versa.\n",
    "# I will do the imputing in the ML pipeline instead - after splitting the data\n",
    "\n",
    "#mean_age = df['Age'].loc[df['Age'].notnull()].mean()\n",
    "#df.loc[df['Age'].isnull(),'Age']=mean_age\n",
    "df.info()"
   ]
  },
  {
   "cell_type": "code",
   "execution_count": 40,
   "metadata": {},
   "outputs": [
    {
     "data": {
      "text/html": [
       "<div>\n",
       "<style scoped>\n",
       "    .dataframe tbody tr th:only-of-type {\n",
       "        vertical-align: middle;\n",
       "    }\n",
       "\n",
       "    .dataframe tbody tr th {\n",
       "        vertical-align: top;\n",
       "    }\n",
       "\n",
       "    .dataframe thead th {\n",
       "        text-align: right;\n",
       "    }\n",
       "</style>\n",
       "<table border=\"1\" class=\"dataframe\">\n",
       "  <thead>\n",
       "    <tr style=\"text-align: right;\">\n",
       "      <th></th>\n",
       "      <th>Survived</th>\n",
       "      <th>Pclass</th>\n",
       "      <th>Age</th>\n",
       "      <th>SibSp</th>\n",
       "      <th>Parch</th>\n",
       "      <th>Fare</th>\n",
       "      <th>Is_female</th>\n",
       "      <th>has_Cabin</th>\n",
       "    </tr>\n",
       "    <tr>\n",
       "      <th>PassengerId</th>\n",
       "      <th></th>\n",
       "      <th></th>\n",
       "      <th></th>\n",
       "      <th></th>\n",
       "      <th></th>\n",
       "      <th></th>\n",
       "      <th></th>\n",
       "      <th></th>\n",
       "    </tr>\n",
       "  </thead>\n",
       "  <tbody>\n",
       "    <tr>\n",
       "      <th>1</th>\n",
       "      <td>0</td>\n",
       "      <td>3</td>\n",
       "      <td>22.0</td>\n",
       "      <td>1</td>\n",
       "      <td>0</td>\n",
       "      <td>7.2500</td>\n",
       "      <td>0</td>\n",
       "      <td>0</td>\n",
       "    </tr>\n",
       "    <tr>\n",
       "      <th>2</th>\n",
       "      <td>1</td>\n",
       "      <td>1</td>\n",
       "      <td>38.0</td>\n",
       "      <td>1</td>\n",
       "      <td>0</td>\n",
       "      <td>71.2833</td>\n",
       "      <td>1</td>\n",
       "      <td>1</td>\n",
       "    </tr>\n",
       "    <tr>\n",
       "      <th>3</th>\n",
       "      <td>1</td>\n",
       "      <td>3</td>\n",
       "      <td>26.0</td>\n",
       "      <td>0</td>\n",
       "      <td>0</td>\n",
       "      <td>7.9250</td>\n",
       "      <td>1</td>\n",
       "      <td>0</td>\n",
       "    </tr>\n",
       "    <tr>\n",
       "      <th>4</th>\n",
       "      <td>1</td>\n",
       "      <td>1</td>\n",
       "      <td>35.0</td>\n",
       "      <td>1</td>\n",
       "      <td>0</td>\n",
       "      <td>53.1000</td>\n",
       "      <td>1</td>\n",
       "      <td>1</td>\n",
       "    </tr>\n",
       "    <tr>\n",
       "      <th>5</th>\n",
       "      <td>0</td>\n",
       "      <td>3</td>\n",
       "      <td>35.0</td>\n",
       "      <td>0</td>\n",
       "      <td>0</td>\n",
       "      <td>8.0500</td>\n",
       "      <td>0</td>\n",
       "      <td>0</td>\n",
       "    </tr>\n",
       "  </tbody>\n",
       "</table>\n",
       "</div>"
      ],
      "text/plain": [
       "             Survived Pclass   Age  SibSp  Parch     Fare Is_female has_Cabin\n",
       "PassengerId                                                                  \n",
       "1                   0      3  22.0      1      0   7.2500         0         0\n",
       "2                   1      1  38.0      1      0  71.2833         1         1\n",
       "3                   1      3  26.0      0      0   7.9250         1         0\n",
       "4                   1      1  35.0      1      0  53.1000         1         1\n",
       "5                   0      3  35.0      0      0   8.0500         0         0"
      ]
     },
     "execution_count": 40,
     "metadata": {},
     "output_type": "execute_result"
    }
   ],
   "source": [
    "df.head()"
   ]
  },
  {
   "cell_type": "code",
   "execution_count": 41,
   "metadata": {},
   "outputs": [],
   "source": [
    "X = df.drop(columns=['Survived'])\n",
    "y = df['Survived']\n",
    "\n",
    "X_train, X_test, y_train, y_test = train_test_split(X,y,\n",
    "                                                   test_size=0.3,\n",
    "                                                   random_state=56)"
   ]
  },
  {
   "cell_type": "code",
   "execution_count": 51,
   "metadata": {},
   "outputs": [
    {
     "name": "stdout",
     "output_type": "stream",
     "text": [
      "0.8171641791044776\n",
      "0.8134328358208955\n",
      "0.8283582089552238\n",
      "0.7910447761194029\n"
     ]
    }
   ],
   "source": [
    "methods = [LogisticRegression(),RandomForestClassifier(),SVC(),GradientBoostingClassifier()]\n",
    "\n",
    "for method in methods:\n",
    "    pipe=make_pipeline(SimpleImputer(),StandardScaler(),method)\n",
    "    pipe.fit(X_train,y_train)\n",
    "    print(pipe.score(X_test,y_test))"
   ]
  },
  {
   "cell_type": "markdown",
   "metadata": {},
   "source": [
    "Let's work with SVC as that is looking to be the most accurate with default parameters. Next is going to be cross validation, hyperparameter tuning and perhaps exploring the other methods as well."
   ]
  }
 ],
 "metadata": {
  "kernelspec": {
   "display_name": "Python 3",
   "language": "python",
   "name": "python3"
  },
  "language_info": {
   "codemirror_mode": {
    "name": "ipython",
    "version": 3
   },
   "file_extension": ".py",
   "mimetype": "text/x-python",
   "name": "python",
   "nbconvert_exporter": "python",
   "pygments_lexer": "ipython3",
   "version": "3.7.6"
  }
 },
 "nbformat": 4,
 "nbformat_minor": 4
}
